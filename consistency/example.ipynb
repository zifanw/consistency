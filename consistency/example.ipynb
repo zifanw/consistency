{
 "cells": [
  {
   "cell_type": "code",
   "execution_count": 1,
   "source": [
    "import tensorflow as tf \n",
    "import numpy as np\n",
    "\n",
    "from attack import IterativeSearch\n",
    "from attack import PGDsL2\n",
    "from attack import LatentSpaceSearch\n",
    "from attack import Prototype\n",
    "from attack import StableNeighborSearch\n",
    "\n",
    "from utils import load_dataset\n",
    "from utils import invalidation\n",
    "\n",
    "import os \n",
    "os.environ['TF_CPP_MIN_LOG_LEVEL'] = '3'\n",
    "os.environ['CUDA_VISIBLE_DEVICES'] = '1'\n",
    "\n",
    "gpu = 0\n",
    "gpus = tf.config.experimental.list_physical_devices('GPU')\n",
    "tf.config.experimental.set_visible_devices(gpus[gpu], 'GPU')\n",
    "device = gpus[gpu]\n",
    "\n",
    "for device in tf.config.experimental.get_visible_devices('GPU'):\n",
    "    tf.config.experimental.set_memory_growth(device, True)\n"
   ],
   "outputs": [],
   "metadata": {}
  },
  {
   "cell_type": "code",
   "execution_count": 2,
   "source": [
    "(X_train, y_train), (X_test, y_test), n_classes = load_dataset('Seizure', path_to_data_dir='dataset/data')"
   ],
   "outputs": [],
   "metadata": {}
  },
  {
   "cell_type": "code",
   "execution_count": 3,
   "source": [
    "X_train.shape"
   ],
   "outputs": [
    {
     "output_type": "execute_result",
     "data": {
      "text/plain": [
       "(8050, 178)"
      ]
     },
     "metadata": {},
     "execution_count": 3
    }
   ],
   "metadata": {}
  },
  {
   "cell_type": "code",
   "execution_count": 4,
   "source": [
    "def dnn(input_shape, n_classes=2):\n",
    "    x = tf.keras.Input(input_shape)\n",
    "    y = tf.keras.layers.Dense(128)(x)\n",
    "    y = tf.keras.layers.Activation('relu')(y)\n",
    "    y = tf.keras.layers.Dense(128)(y)\n",
    "    y = tf.keras.layers.Activation('relu')(y)\n",
    "    y = tf.keras.layers.Dense(n_classes)(y)\n",
    "    y = tf.keras.layers.Activation('softmax')(y)\n",
    "    return tf.keras.models.Model(x, y)\n",
    "\n",
    "def train_dnn(model, X_train, y_train, X_test, y_test, epochs=50, batch_size=32):\n",
    "    model.compile(optimizer='adam', loss='sparse_categorical_crossentropy', metrics=[tf.keras.metrics.SparseCategoricalAccuracy()])\n",
    "    model.fit(X_train, y_train, epochs=epochs, batch_size=batch_size, validation_data=(X_test, y_test), verbose=0)\n",
    "    model.evaluate(X_test, y_test, batch_size=batch_size)\n",
    "    return model"
   ],
   "outputs": [],
   "metadata": {}
  },
  {
   "cell_type": "code",
   "execution_count": 5,
   "source": [
    "baseline_model = dnn(X_train.shape[1:], n_classes=n_classes)\n",
    "baseline_model = train_dnn(baseline_model, X_train, y_train, X_test, y_test, batch_size=256)"
   ],
   "outputs": [
    {
     "output_type": "stream",
     "name": "stdout",
     "text": [
      "14/14 [==============================] - 0s 690us/step - loss: 0.1517 - sparse_categorical_accuracy: 0.9736\n"
     ]
    }
   ],
   "metadata": {}
  },
  {
   "cell_type": "code",
   "execution_count": 6,
   "source": [
    "model_1 = dnn(X_train.shape[1:], n_classes=n_classes)\n",
    "model_1 = train_dnn(baseline_model, X_train, y_train, X_test, y_test, batch_size=256)"
   ],
   "outputs": [
    {
     "output_type": "stream",
     "name": "stdout",
     "text": [
      "14/14 [==============================] - 0s 647us/step - loss: 0.2033 - sparse_categorical_accuracy: 0.9713\n"
     ]
    }
   ],
   "metadata": {}
  },
  {
   "cell_type": "code",
   "execution_count": 7,
   "source": [
    "L1_iter_search = IterativeSearch(baseline_model,\n",
    "                                clamp=[X_train.min(), X_train.max()],\n",
    "                                num_classes=2,\n",
    "                                eps=0.3,\n",
    "                                nb_iters=40,\n",
    "                                eps_iter=0.01,\n",
    "                                norm=1)\n",
    "                                \n",
    "l1_cf, pred_cf, is_valid = L1_iter_search(X_test[:128])\n",
    "iv = invalidation(l1_cf,\n",
    "                np.argmax(baseline_model.predict(X_test[:128]), axis=1),\n",
    "                model_1,\n",
    "                affinity_set=[[0], [1]])\n",
    "\n",
    "print(f\"Invalidation Rate: {iv}\")"
   ],
   "outputs": [
    {
     "output_type": "stream",
     "name": "stdout",
     "text": [
      "WARNING:tensorflow:Calling GradientTape.gradient on a persistent tape inside its context is significantly less efficient than calling it outside the context (it causes the gradient ops to be recorded on the tape, leading to increased CPU and memory usage). Only call GradientTape.gradient inside the context if you actually want to trace the gradient in order to compute higher order derivatives.\n",
      "Invalidation Rate: (0.0,)\n"
     ]
    }
   ],
   "metadata": {}
  },
  {
   "cell_type": "code",
   "execution_count": 8,
   "source": [
    "L2_iter_search = IterativeSearch(baseline_model,\n",
    "                                clamp=[X_train.min(), X_train.max()],\n",
    "                                num_classes=2,\n",
    "                                eps=0.3,\n",
    "                                nb_iters=40,\n",
    "                                eps_iter=0.01,\n",
    "                                norm=2)\n",
    "l2_cf, pred_cf, is_valid = L2_iter_search(X_test[:128])\n",
    "\n",
    "iv  = invalidation(l2_cf,\n",
    "                np.argmax(baseline_model.predict(X_test[:128]), axis=1),\n",
    "                model_1,\n",
    "                affinity_set=[[0], [1]])\n",
    "\n",
    "print(f\"Invalidation Rate: {iv}\")"
   ],
   "outputs": [
    {
     "output_type": "stream",
     "name": "stdout",
     "text": [
      "Invalidation Rate: (0.0,)\n"
     ]
    }
   ],
   "metadata": {}
  },
  {
   "cell_type": "code",
   "execution_count": 9,
   "source": [
    "pgd_iter_search = PGDsL2(baseline_model,\n",
    "                        clamp=[X_train.min(), X_train.max()],\n",
    "                        num_classes=2,\n",
    "                        eps=2.0,\n",
    "                        nb_iters=100,\n",
    "                        eps_iter=0.04)\n",
    "pgd_cf, pred_cf, is_valid = pgd_iter_search(X_test[:128], num_interpolations=10, batch_size=64)\n",
    "\n",
    "iv = invalidation(pgd_cf,\n",
    "                np.argmax(baseline_model.predict(X_test[:128]), axis=1),\n",
    "                model_1,\n",
    "                batch_size=32,\n",
    "                affinity_set=[[0], [1]])\n",
    "\n",
    "print(f\"Invalidation Rate: {iv}\")"
   ],
   "outputs": [
    {
     "output_type": "stream",
     "name": "stdout",
     "text": [
      "WARNING:tensorflow:From /home/zifanw/miniconda3/envs/tf2/lib/python3.8/site-packages/foolbox/models/tensorflow.py:13: is_gpu_available (from tensorflow.python.framework.test_util) is deprecated and will be removed in a future version.\n",
      "Instructions for updating:\n",
      "Use `tf.config.list_physical_devices('GPU')` instead.\n",
      "Invalidation Rate: (0.0,)\n"
     ]
    }
   ],
   "metadata": {}
  },
  {
   "cell_type": "code",
   "execution_count": null,
   "source": [
    "ae_search = LatentSpaceSearch(baseline_model,\n",
    "                        clamp=[X_train.min(), X_train.max()],\n",
    "                        num_classes=2,\n",
    "                        eps=2.0,\n",
    "                        nb_iters=100,\n",
    "                        eps_iter=0.04)\n",
    "pgd_cf, pred_cf, is_valid = pgd_iter_search(X_test[:128], num_interpolations=10, batch_size=64)\n",
    "\n",
    "iv = invalidation(pgd_cf,\n",
    "                np.argmax(baseline_model.predict(X_test[:128]), axis=1),\n",
    "                model_1,\n",
    "                batch_size=32,\n",
    "                affinity_set=[[0], [1]])\n",
    "\n",
    "print(f\"Invalidation Rate: {iv}\")"
   ],
   "outputs": [],
   "metadata": {}
  }
 ],
 "metadata": {
  "orig_nbformat": 4,
  "language_info": {
   "name": "python",
   "version": "3.8.0",
   "mimetype": "text/x-python",
   "codemirror_mode": {
    "name": "ipython",
    "version": 3
   },
   "pygments_lexer": "ipython3",
   "nbconvert_exporter": "python",
   "file_extension": ".py"
  },
  "kernelspec": {
   "name": "python3",
   "display_name": "Python 3.8.0 64-bit ('tf2': conda)"
  },
  "interpreter": {
   "hash": "21248d95275e884bc33c3f7011a493747d4a786160cbaad2c822a0cee53a1cdc"
  }
 },
 "nbformat": 4,
 "nbformat_minor": 2
}