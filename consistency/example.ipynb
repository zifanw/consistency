{
 "cells": [
  {
   "cell_type": "code",
   "execution_count": 1,
   "source": [
    "import tensorflow as tf \n",
    "import numpy as np\n",
    "\n",
    "from attack import IterativeSearch\n",
    "from attack import PGDsL2\n",
    "from attack import StableNeighborSearch\n",
    "\n",
    "from utils import load_dataset\n",
    "from utils import invalidation\n",
    "\n",
    "import os \n",
    "os.environ['TF_CPP_MIN_LOG_LEVEL'] = '3'\n",
    "os.environ['CUDA_VISIBLE_DEVICES'] = '1'\n",
    "\n",
    "gpu = 0\n",
    "gpus = tf.config.experimental.list_physical_devices('GPU')\n",
    "tf.config.experimental.set_visible_devices(gpus[gpu], 'GPU')\n",
    "device = gpus[gpu]\n",
    "\n",
    "for device in tf.config.experimental.get_visible_devices('GPU'):\n",
    "    tf.config.experimental.set_memory_growth(device, True)\n"
   ],
   "outputs": [],
   "metadata": {}
  },
  {
   "cell_type": "code",
   "execution_count": 2,
   "source": [
    "(X_train, y_train), (X_test, y_test), n_classes = load_dataset('Seizure', path_to_data_dir='dataset/data')"
   ],
   "outputs": [],
   "metadata": {}
  },
  {
   "cell_type": "code",
   "execution_count": 3,
   "source": [
    "X_train.shape"
   ],
   "outputs": [
    {
     "output_type": "execute_result",
     "data": {
      "text/plain": [
       "(8050, 178)"
      ]
     },
     "metadata": {},
     "execution_count": 3
    }
   ],
   "metadata": {}
  },
  {
   "cell_type": "code",
   "execution_count": 4,
   "source": [
    "def dnn(input_shape, n_classes=2):\n",
    "    x = tf.keras.Input(input_shape)\n",
    "    y = tf.keras.layers.Dense(128)(x)\n",
    "    y = tf.keras.layers.Activation('relu')(y)\n",
    "    y = tf.keras.layers.Dense(128)(y)\n",
    "    y = tf.keras.layers.Activation('relu')(y)\n",
    "    y = tf.keras.layers.Dense(n_classes)(y)\n",
    "    y = tf.keras.layers.Activation('softmax')(y)\n",
    "    return tf.keras.models.Model(x, y)\n",
    "\n",
    "def train_dnn(model, X_train, y_train, X_test, y_test, epochs=50, batch_size=32):\n",
    "    model.compile(optimizer='adam', loss='sparse_categorical_crossentropy', metrics=[tf.keras.metrics.SparseCategoricalAccuracy()])\n",
    "    model.fit(X_train, y_train, epochs=epochs, batch_size=batch_size, validation_data=(X_test, y_test), verbose=0)\n",
    "    model.evaluate(X_test, y_test, batch_size=batch_size)\n",
    "    return model"
   ],
   "outputs": [],
   "metadata": {}
  },
  {
   "cell_type": "code",
   "execution_count": 5,
   "source": [
    "baseline_model = dnn(X_train.shape[1:], n_classes=n_classes)\n",
    "baseline_model = train_dnn(baseline_model, X_train, y_train, X_test, y_test, batch_size=256)"
   ],
   "outputs": [
    {
     "output_type": "stream",
     "name": "stdout",
     "text": [
      "14/14 [==============================] - 0s 691us/step - loss: 0.1555 - sparse_categorical_accuracy: 0.9733\n"
     ]
    }
   ],
   "metadata": {}
  },
  {
   "cell_type": "code",
   "execution_count": 6,
   "source": [
    "model_1 = dnn(X_train.shape[1:], n_classes=n_classes)\n",
    "model_1 = train_dnn(baseline_model, X_train, y_train, X_test, y_test, batch_size=256)"
   ],
   "outputs": [
    {
     "output_type": "stream",
     "name": "stdout",
     "text": [
      "14/14 [==============================] - 0s 721us/step - loss: 0.2165 - sparse_categorical_accuracy: 0.9728\n"
     ]
    }
   ],
   "metadata": {}
  },
  {
   "cell_type": "markdown",
   "source": [
    "## Counterfactual Search"
   ],
   "metadata": {}
  },
  {
   "cell_type": "code",
   "execution_count": 7,
   "source": [
    "L1_iter_search = IterativeSearch(baseline_model,\n",
    "                                clamp=[X_train.min(), X_train.max()],\n",
    "                                num_classes=2,\n",
    "                                eps=0.3,\n",
    "                                nb_iters=40,\n",
    "                                eps_iter=0.01,\n",
    "                                norm=1)\n",
    "                                \n",
    "l1_cf, pred_cf, is_valid = L1_iter_search(X_test[:128])\n",
    "iv = invalidation(l1_cf,\n",
    "                np.argmax(baseline_model.predict(X_test[:128]), axis=1),\n",
    "                model_1,\n",
    "                affinity_set=[[0], [1]])\n",
    "\n",
    "print(f\"Invalidation Rate: {iv}\")"
   ],
   "outputs": [
    {
     "output_type": "stream",
     "name": "stdout",
     "text": [
      "WARNING:tensorflow:Calling GradientTape.gradient on a persistent tape inside its context is significantly less efficient than calling it outside the context (it causes the gradient ops to be recorded on the tape, leading to increased CPU and memory usage). Only call GradientTape.gradient inside the context if you actually want to trace the gradient in order to compute higher order derivatives.\n"
     ]
    },
    {
     "output_type": "error",
     "ename": "AttributeError",
     "evalue": "'IterativeSearch' object has no attribute 'rns_fn'",
     "traceback": [
      "\u001b[0;31m---------------------------------------------------------------------------\u001b[0m",
      "\u001b[0;31mAttributeError\u001b[0m                            Traceback (most recent call last)",
      "\u001b[0;32m<ipython-input-7-60ea09cb0de1>\u001b[0m in \u001b[0;36m<module>\u001b[0;34m\u001b[0m\n\u001b[1;32m      7\u001b[0m                                 norm=1)\n\u001b[1;32m      8\u001b[0m \u001b[0;34m\u001b[0m\u001b[0m\n\u001b[0;32m----> 9\u001b[0;31m \u001b[0ml1_cf\u001b[0m\u001b[0;34m,\u001b[0m \u001b[0mpred_cf\u001b[0m\u001b[0;34m,\u001b[0m \u001b[0mis_valid\u001b[0m \u001b[0;34m=\u001b[0m \u001b[0mL1_iter_search\u001b[0m\u001b[0;34m(\u001b[0m\u001b[0mX_test\u001b[0m\u001b[0;34m[\u001b[0m\u001b[0;34m:\u001b[0m\u001b[0;36m128\u001b[0m\u001b[0;34m]\u001b[0m\u001b[0;34m)\u001b[0m\u001b[0;34m\u001b[0m\u001b[0;34m\u001b[0m\u001b[0m\n\u001b[0m\u001b[1;32m     10\u001b[0m iv = invalidation(l1_cf,\n\u001b[1;32m     11\u001b[0m                 \u001b[0mnp\u001b[0m\u001b[0;34m.\u001b[0m\u001b[0margmax\u001b[0m\u001b[0;34m(\u001b[0m\u001b[0mbaseline_model\u001b[0m\u001b[0;34m.\u001b[0m\u001b[0mpredict\u001b[0m\u001b[0;34m(\u001b[0m\u001b[0mX_test\u001b[0m\u001b[0;34m[\u001b[0m\u001b[0;34m:\u001b[0m\u001b[0;36m128\u001b[0m\u001b[0;34m]\u001b[0m\u001b[0;34m)\u001b[0m\u001b[0;34m,\u001b[0m \u001b[0maxis\u001b[0m\u001b[0;34m=\u001b[0m\u001b[0;36m1\u001b[0m\u001b[0;34m)\u001b[0m\u001b[0;34m,\u001b[0m\u001b[0;34m\u001b[0m\u001b[0;34m\u001b[0m\u001b[0m\n",
      "\u001b[0;32m~/consistency/consistency/attack/attack_methods.py\u001b[0m in \u001b[0;36m__call__\u001b[0;34m(self, x, original_pred_sparse, batch_size, **kwargs)\u001b[0m\n\u001b[1;32m     44\u001b[0m                                              **kwargs)\n\u001b[1;32m     45\u001b[0m         \u001b[0;31m# Run SNS search\u001b[0m\u001b[0;34m\u001b[0m\u001b[0;34m\u001b[0m\u001b[0;34m\u001b[0m\u001b[0m\n\u001b[0;32m---> 46\u001b[0;31m         \u001b[0;32mif\u001b[0m \u001b[0mself\u001b[0m\u001b[0;34m.\u001b[0m\u001b[0mrns_fn\u001b[0m \u001b[0;32mis\u001b[0m \u001b[0;32mnot\u001b[0m \u001b[0;32mNone\u001b[0m\u001b[0;34m:\u001b[0m\u001b[0;34m\u001b[0m\u001b[0;34m\u001b[0m\u001b[0m\n\u001b[0m\u001b[1;32m     47\u001b[0m             \u001b[0mx_adv\u001b[0m \u001b[0;34m=\u001b[0m \u001b[0mself\u001b[0m\u001b[0;34m.\u001b[0m\u001b[0mrns_fn\u001b[0m\u001b[0;34m(\u001b[0m\u001b[0mx_adv\u001b[0m\u001b[0;34m)\u001b[0m\u001b[0;34m\u001b[0m\u001b[0;34m\u001b[0m\u001b[0m\n\u001b[1;32m     48\u001b[0m \u001b[0;34m\u001b[0m\u001b[0m\n",
      "\u001b[0;31mAttributeError\u001b[0m: 'IterativeSearch' object has no attribute 'rns_fn'"
     ]
    }
   ],
   "metadata": {}
  },
  {
   "cell_type": "code",
   "execution_count": null,
   "source": [
    "L2_iter_search = IterativeSearch(baseline_model,\n",
    "                                clamp=[X_train.min(), X_train.max()],\n",
    "                                num_classes=2,\n",
    "                                eps=0.3,\n",
    "                                nb_iters=40,\n",
    "                                eps_iter=0.01,\n",
    "                                norm=2)\n",
    "l2_cf, pred_cf, is_valid = L2_iter_search(X_test[:128])\n",
    "\n",
    "iv  = invalidation(l2_cf,\n",
    "                np.argmax(baseline_model.predict(X_test[:128]), axis=1),\n",
    "                model_1,\n",
    "                affinity_set=[[0], [1]])\n",
    "\n",
    "print(f\"Invalidation Rate: {iv}\")"
   ],
   "outputs": [
    {
     "output_type": "stream",
     "name": "stdout",
     "text": [
      "Invalidation Rate: (0.0,)\n"
     ]
    }
   ],
   "metadata": {}
  },
  {
   "cell_type": "code",
   "execution_count": null,
   "source": [
    "pgd_iter_search = PGDsL2(baseline_model,\n",
    "                        clamp=[X_train.min(), X_train.max()],\n",
    "                        num_classes=2,\n",
    "                        eps=2.0,\n",
    "                        nb_iters=100,\n",
    "                        eps_iter=0.04)\n",
    "pgd_cf, pred_cf, is_valid = pgd_iter_search(X_test[:128], num_interpolations=10, batch_size=64)\n",
    "\n",
    "iv = invalidation(pgd_cf,\n",
    "                np.argmax(baseline_model.predict(X_test[:128]), axis=1),\n",
    "                model_1,\n",
    "                batch_size=32,\n",
    "                affinity_set=[[0], [1]])\n",
    "\n",
    "print(f\"Invalidation Rate: {iv}\")"
   ],
   "outputs": [
    {
     "output_type": "stream",
     "name": "stdout",
     "text": [
      "WARNING:tensorflow:From /home/zifanw/miniconda3/envs/tf2/lib/python3.8/site-packages/foolbox/models/tensorflow.py:13: is_gpu_available (from tensorflow.python.framework.test_util) is deprecated and will be removed in a future version.\n",
      "Instructions for updating:\n",
      "Use `tf.config.list_physical_devices('GPU')` instead.\n",
      "Invalidation Rate: (0.0,)\n"
     ]
    }
   ],
   "metadata": {}
  },
  {
   "cell_type": "markdown",
   "source": [
    "## Robust Neighbor Search"
   ],
   "metadata": {}
  },
  {
   "cell_type": "code",
   "execution_count": null,
   "source": [
    "sns_fn = StableNeighborSearch(baseline_model,\n",
    "                 clamp=[X_train.min(), X_train.max()],\n",
    "                 num_classes=2,\n",
    "                 sns_eps=0.1,\n",
    "                 sns_nb_iters=100,\n",
    "                 sns_eps_iter=1.e-3,\n",
    "                 n_interpolations=20)"
   ],
   "outputs": [],
   "metadata": {}
  },
  {
   "cell_type": "code",
   "execution_count": null,
   "source": [
    "L1_iter_search = IterativeSearch(baseline_model,\n",
    "                                clamp=[X_train.min(), X_train.max()],\n",
    "                                num_classes=2,\n",
    "                                eps=0.3,\n",
    "                                nb_iters=40,\n",
    "                                eps_iter=0.01,\n",
    "                                norm=1,\n",
    "                                sns_fn=sns_fn)\n",
    "                                \n",
    "l1_cf, pred_cf, is_valid = L1_iter_search(X_test[:128])\n",
    "iv = invalidation(l1_cf,\n",
    "                np.argmax(baseline_model.predict(X_test[:128]), axis=1),\n",
    "                model_1,\n",
    "                affinity_set=[[0], [1]])\n",
    "\n",
    "print(f\"Invalidation Rate: {iv}\")"
   ],
   "outputs": [
    {
     "output_type": "error",
     "ename": "AttributeError",
     "evalue": "'StableNeighborSearch' object has no attribute 'sns_nb_iter'",
     "traceback": [
      "\u001b[0;31m---------------------------------------------------------------------------\u001b[0m",
      "\u001b[0;31mAttributeError\u001b[0m                            Traceback (most recent call last)",
      "\u001b[0;32m<ipython-input-12-084de9140b3a>\u001b[0m in \u001b[0;36m<module>\u001b[0;34m\u001b[0m\n\u001b[1;32m      8\u001b[0m                                 rns_fn=rns_fn)\n\u001b[1;32m      9\u001b[0m \u001b[0;34m\u001b[0m\u001b[0m\n\u001b[0;32m---> 10\u001b[0;31m \u001b[0ml1_cf\u001b[0m\u001b[0;34m,\u001b[0m \u001b[0mpred_cf\u001b[0m\u001b[0;34m,\u001b[0m \u001b[0mis_valid\u001b[0m \u001b[0;34m=\u001b[0m \u001b[0mL1_iter_search\u001b[0m\u001b[0;34m(\u001b[0m\u001b[0mX_test\u001b[0m\u001b[0;34m[\u001b[0m\u001b[0;34m:\u001b[0m\u001b[0;36m128\u001b[0m\u001b[0;34m]\u001b[0m\u001b[0;34m)\u001b[0m\u001b[0;34m\u001b[0m\u001b[0;34m\u001b[0m\u001b[0m\n\u001b[0m\u001b[1;32m     11\u001b[0m iv = invalidation(l1_cf,\n\u001b[1;32m     12\u001b[0m                 \u001b[0mnp\u001b[0m\u001b[0;34m.\u001b[0m\u001b[0margmax\u001b[0m\u001b[0;34m(\u001b[0m\u001b[0mbaseline_model\u001b[0m\u001b[0;34m.\u001b[0m\u001b[0mpredict\u001b[0m\u001b[0;34m(\u001b[0m\u001b[0mX_test\u001b[0m\u001b[0;34m[\u001b[0m\u001b[0;34m:\u001b[0m\u001b[0;36m128\u001b[0m\u001b[0;34m]\u001b[0m\u001b[0;34m)\u001b[0m\u001b[0;34m,\u001b[0m \u001b[0maxis\u001b[0m\u001b[0;34m=\u001b[0m\u001b[0;36m1\u001b[0m\u001b[0;34m)\u001b[0m\u001b[0;34m,\u001b[0m\u001b[0;34m\u001b[0m\u001b[0;34m\u001b[0m\u001b[0m\n",
      "\u001b[0;32m~/consistency/consistency/attack/attack_methods.py\u001b[0m in \u001b[0;36m__call__\u001b[0;34m(self, x, original_pred_sparse, batch_size, **kwargs)\u001b[0m\n\u001b[1;32m     45\u001b[0m         \u001b[0;31m# Run SNS search\u001b[0m\u001b[0;34m\u001b[0m\u001b[0;34m\u001b[0m\u001b[0;34m\u001b[0m\u001b[0m\n\u001b[1;32m     46\u001b[0m         \u001b[0;32mif\u001b[0m \u001b[0mself\u001b[0m\u001b[0;34m.\u001b[0m\u001b[0mrns_fn\u001b[0m \u001b[0;32mis\u001b[0m \u001b[0;32mnot\u001b[0m \u001b[0;32mNone\u001b[0m\u001b[0;34m:\u001b[0m\u001b[0;34m\u001b[0m\u001b[0;34m\u001b[0m\u001b[0m\n\u001b[0;32m---> 47\u001b[0;31m             \u001b[0mx_adv\u001b[0m \u001b[0;34m=\u001b[0m \u001b[0mself\u001b[0m\u001b[0;34m.\u001b[0m\u001b[0mrns_fn\u001b[0m\u001b[0;34m(\u001b[0m\u001b[0mx_adv\u001b[0m\u001b[0;34m)\u001b[0m\u001b[0;34m\u001b[0m\u001b[0;34m\u001b[0m\u001b[0m\n\u001b[0m\u001b[1;32m     48\u001b[0m \u001b[0;34m\u001b[0m\u001b[0m\n\u001b[1;32m     49\u001b[0m         \u001b[0;31m# 2. check if counterfactual is adversarial\u001b[0m\u001b[0;34m\u001b[0m\u001b[0;34m\u001b[0m\u001b[0;34m\u001b[0m\u001b[0m\n",
      "\u001b[0;32m~/consistency/consistency/attack/attack_methods.py\u001b[0m in \u001b[0;36m__call__\u001b[0;34m(self, x)\u001b[0m\n\u001b[1;32m     97\u001b[0m             \u001b[0mbatch_size\u001b[0m\u001b[0;34m=\u001b[0m\u001b[0mself\u001b[0m\u001b[0;34m.\u001b[0m\u001b[0mbatch_size\u001b[0m\u001b[0;34m,\u001b[0m\u001b[0;34m\u001b[0m\u001b[0;34m\u001b[0m\u001b[0m\n\u001b[1;32m     98\u001b[0m             \u001b[0mn_steps\u001b[0m\u001b[0;34m=\u001b[0m\u001b[0mself\u001b[0m\u001b[0;34m.\u001b[0m\u001b[0mn_interpolations\u001b[0m\u001b[0;34m,\u001b[0m\u001b[0;34m\u001b[0m\u001b[0;34m\u001b[0m\u001b[0m\n\u001b[0;32m---> 99\u001b[0;31m             \u001b[0mmax_steps\u001b[0m\u001b[0;34m=\u001b[0m\u001b[0mself\u001b[0m\u001b[0;34m.\u001b[0m\u001b[0msns_nb_iter\u001b[0m\u001b[0;34m,\u001b[0m\u001b[0;34m\u001b[0m\u001b[0;34m\u001b[0m\u001b[0m\n\u001b[0m\u001b[1;32m    100\u001b[0m             \u001b[0madv_epsilon\u001b[0m\u001b[0;34m=\u001b[0m\u001b[0mself\u001b[0m\u001b[0;34m.\u001b[0m\u001b[0msns_eps\u001b[0m\u001b[0;34m,\u001b[0m\u001b[0;34m\u001b[0m\u001b[0;34m\u001b[0m\u001b[0m\n\u001b[1;32m    101\u001b[0m             adv_step_size=self.sns_eps_iter)\n",
      "\u001b[0;31mAttributeError\u001b[0m: 'StableNeighborSearch' object has no attribute 'sns_nb_iter'"
     ]
    }
   ],
   "metadata": {}
  },
  {
   "cell_type": "code",
   "execution_count": null,
   "source": [],
   "outputs": [],
   "metadata": {}
  }
 ],
 "metadata": {
  "orig_nbformat": 4,
  "language_info": {
   "name": "python",
   "version": "3.8.0",
   "mimetype": "text/x-python",
   "codemirror_mode": {
    "name": "ipython",
    "version": 3
   },
   "pygments_lexer": "ipython3",
   "nbconvert_exporter": "python",
   "file_extension": ".py"
  },
  "kernelspec": {
   "name": "python3",
   "display_name": "Python 3.8.0 64-bit ('tf2': conda)"
  },
  "interpreter": {
   "hash": "21248d95275e884bc33c3f7011a493747d4a786160cbaad2c822a0cee53a1cdc"
  }
 },
 "nbformat": 4,
 "nbformat_minor": 2
}